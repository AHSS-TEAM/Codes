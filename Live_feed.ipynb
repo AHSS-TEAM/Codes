{
 "metadata": {
  "language_info": {
   "codemirror_mode": {
    "name": "ipython",
    "version": 3
   },
   "file_extension": ".py",
   "mimetype": "text/x-python",
   "name": "python",
   "nbconvert_exporter": "python",
   "pygments_lexer": "ipython3",
   "version": "3.9.5"
  },
  "orig_nbformat": 2,
  "kernelspec": {
   "name": "python395jvsc74a57bd082d9eafd28ec7a1917d914b5203c5e9c04da8366c63a0109f48addc20b3c7f92",
   "display_name": "Python 3.9.5 64-bit"
  },
  "metadata": {
   "interpreter": {
    "hash": "82d9eafd28ec7a1917d914b5203c5e9c04da8366c63a0109f48addc20b3c7f92"
   }
  }
 },
 "nbformat": 4,
 "nbformat_minor": 2,
 "cells": [
  {
   "cell_type": "code",
   "execution_count": 16,
   "metadata": {},
   "outputs": [],
   "source": [
    "import cv2\n",
    "import numpy as np\n",
    "import matplotlib.pyplot as plt\n",
    "\n",
    "net = cv2.dnn.readNet(\"./yolov3-tiny.cfg\", \"./yolov3-tiny.weights\")\n",
    "classes = []\n",
    "with open(\"./coco.names\", 'r') as f:\n",
    "  classes = f.read().splitlines()\n",
    "\n",
    "cap = cv2.VideoCapture(0)\n",
    "\n",
    "while (cap.isOpened()):\n",
    "  _, img = cap.read()\n",
    "  height, width, _ = img.shape\n",
    "  blob = cv2.dnn.blobFromImage(img, 1/255, (320,320),(0,0,0), swapRB=True, crop = False)\n",
    "  net.setInput(blob)\n",
    "  output_layer_names = net.getUnconnectedOutLayersNames()\n",
    "  layeroutput = net.forward(output_layer_names)\n",
    "\n",
    "  boxes = []\n",
    "  confidences = []\n",
    "  class_ids = []\n",
    "\n",
    "  for output in layeroutput:\n",
    "    for detection in output:\n",
    "      score = detection[5:]\n",
    "      class_id = np.argmax(score)\n",
    "      confidence = score[class_id]\n",
    "      if confidence > 0.7:\n",
    "        center_x = int(detection[0]*width)\n",
    "        center_y = int(detection[1]*height)\n",
    "        w = int(detection[2]*width)\n",
    "        h = int(detection[3]*height)\n",
    "\n",
    "        x = int(center_x - w/2)\n",
    "        y = int(center_y - h/2)\n",
    "\n",
    "        boxes.append([x,y,w,h])\n",
    "        confidences.append(float(confidence))\n",
    "        class_ids.append(class_id)\n",
    "\n",
    "  indexes = cv2.dnn.NMSBoxes(boxes, confidences, 0.7, 0.4)\n",
    "  font = cv2.FONT_HERSHEY_SIMPLEX\n",
    "  colors = np.random.uniform(0, 255, size = (len(boxes), 3))\n",
    "\n",
    "  if len(indexes)>0:\n",
    "    for i in indexes.flatten():\n",
    "      x,y,w,h = boxes[i]\n",
    "\n",
    "      label = str(classes[class_ids[i]])\n",
    "      confi = str(round(confidences[i],2))\n",
    "      color = colors[i]\n",
    "      cv2.rectangle(img, (x,y), (x+w, y+h), color, 2)\n",
    "      cv2.putText(img, label+ \" \"+confi, (x, y+20), font, 2, (255,255,255), 2)\n",
    "      cv2.imshow('Image', img)    \n",
    "\n",
    "  key = cv2.waitKey(1)\n",
    "  if key == 27:\n",
    "    break\n",
    "cap.release()\n",
    "cv2.destroyAllWindows()"
   ]
  },
  {
   "cell_type": "code",
   "execution_count": null,
   "metadata": {},
   "outputs": [],
   "source": []
  }
 ]
}